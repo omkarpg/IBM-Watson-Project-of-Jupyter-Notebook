{
 "cells": [
  {
   "cell_type": "markdown",
   "metadata": {
    "collapsed": true
   },
   "source": [
    "# My Jupyter Notebook on IBM Watson Studio"
   ]
  },
  {
   "cell_type": "markdown",
   "metadata": {},
   "source": [
    "**Omkar Gosavi**\n",
    "\n",
    "Technical Consultant"
   ]
  },
  {
   "cell_type": "markdown",
   "metadata": {},
   "source": [
    "_I Love Data Science because I am intrested in solving complex problems and taking some decisions which are vital and helps organizations to grow. \n",
    "I also enjoy to learn new things and as Data Science is a vast field there is scope for learning endlessly._"
   ]
  },
  {
   "cell_type": "markdown",
   "metadata": {},
   "source": [
    "### The below Python code is of Sigmoid activation function used in DL/ML"
   ]
  },
  {
   "cell_type": "code",
   "execution_count": 2,
   "metadata": {},
   "outputs": [],
   "source": [
    "import numpy as np\n",
    "\n",
    "def sigmoid(x):\n",
    "    s = 1/(1+np.exp(-x))\n",
    "    ds = s*(1-s)\n",
    "    return s, ds"
   ]
  },
  {
   "cell_type": "markdown",
   "metadata": {},
   "source": [
    "\n",
    "What is Sigmoid Activation Function?\n",
    "* Sigmoid Function takes any real value as input and outputs value in the range of 0 to 1.\n",
    "* The Larger the input the output value will be closer to 1 (more positive).\n",
    "* The smaller the input the output value will be closer to 0 (more negative).\n",
    "\n",
    "___\n",
    "\n",
    "|Uses of Sigmoid Activation Function|\n",
    "|:----|\n",
    "|It is commonly used for models where we have to predict the probability as an output.|\n",
    "|Since probability of anything exists only between the range of 0 and 1, sigmoid is the right choice because of its range.|\n",
    "|The function is differentiable and provides a smooth gradient, i.e., preventing jumps in output values.|\n",
    "|This is represented by an S-shape of the sigmoid activation function.|\n",
    "\n",
    "***\n",
    "\n",
    "[Click For more information on Sigmoid Activation Function](https://www.v7labs.com/blog/neural-networks-activation-functions#:~:text=Sigmoid%20%2F%20Logistic%20Activation%20Function,to%200.0%2C%20as%20shown%20below. \"Activation Function\")"
   ]
  }
 ],
 "metadata": {
  "kernelspec": {
   "display_name": "Python 3.10",
   "language": "python",
   "name": "python3"
  },
  "language_info": {
   "codemirror_mode": {
    "name": "ipython",
    "version": 3
   },
   "file_extension": ".py",
   "mimetype": "text/x-python",
   "name": "python",
   "nbconvert_exporter": "python",
   "pygments_lexer": "ipython3",
   "version": "3.10.6"
  }
 },
 "nbformat": 4,
 "nbformat_minor": 1
}
